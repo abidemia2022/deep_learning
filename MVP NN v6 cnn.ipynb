{
 "cells": [
  {
   "cell_type": "code",
   "execution_count": 1,
   "id": "d41123c5",
   "metadata": {},
   "outputs": [],
   "source": [
    "import numpy as np\n",
    "import pandas as pd\n",
    "from sklearn.model_selection import train_test_split\n",
    "from sklearn.linear_model import LogisticRegression\n",
    "import matplotlib.pyplot as plt\n",
    "from sklearn.metrics import log_loss,roc_curve, roc_auc_score, classification_report, accuracy_score, confusion_matrix \n",
    "from sklearn import preprocessing\n",
    "from tensorflow import keras"
   ]
  },
  {
   "cell_type": "code",
   "execution_count": 2,
   "id": "9a198574",
   "metadata": {},
   "outputs": [],
   "source": [
    "#reading dataframes\n",
    "\n",
    "train_data = pd.read_pickle('train_all.pkl')\n",
    "val_data = pd.read_pickle('val_all.pkl')\n",
    "test_data =pd.read_pickle('test_all.pkl')"
   ]
  },
  {
   "cell_type": "code",
   "execution_count": 3,
   "id": "98ceb013",
   "metadata": {},
   "outputs": [
    {
     "data": {
      "text/plain": [
       "(5051, 65537)"
      ]
     },
     "execution_count": 3,
     "metadata": {},
     "output_type": "execute_result"
    }
   ],
   "source": [
    "train_data.shape"
   ]
  },
  {
   "cell_type": "code",
   "execution_count": 4,
   "id": "11b1ea67",
   "metadata": {},
   "outputs": [
    {
     "data": {
      "text/plain": [
       "(618, 65537)"
      ]
     },
     "execution_count": 4,
     "metadata": {},
     "output_type": "execute_result"
    }
   ],
   "source": [
    "test_data.shape"
   ]
  },
  {
   "cell_type": "code",
   "execution_count": 5,
   "id": "6877089c",
   "metadata": {},
   "outputs": [],
   "source": [
    "# X and target y for training data\n",
    "X_train= train_data.iloc[:,0:-1]\n",
    "y_train= train_data.iloc[:, -1]\n",
    "\n",
    "# X and target y for val data\n",
    "X_val= val_data.iloc[:,0:-1]\n",
    "y_val= val_data.iloc[:, -1]\n",
    "\n",
    "\n",
    "# X and target y for test data\n",
    "X_test= test_data.iloc[:,0:-1]\n",
    "y_test= test_data.iloc[:, -1]"
   ]
  },
  {
   "cell_type": "code",
   "execution_count": 6,
   "id": "c7d23f5c",
   "metadata": {},
   "outputs": [],
   "source": [
    "#X_train.head()"
   ]
  },
  {
   "cell_type": "code",
   "execution_count": 7,
   "id": "e24d9beb",
   "metadata": {},
   "outputs": [],
   "source": [
    "#Rescale values by dividing by 255\n",
    "\n",
    "X_train =X_train.div(255)\n",
    "X_val =X_val.div(255)\n",
    "X_test =X_test.div(255)"
   ]
  },
  {
   "cell_type": "code",
   "execution_count": 8,
   "id": "6f6f34eb",
   "metadata": {},
   "outputs": [],
   "source": [
    "#X_train.head()"
   ]
  },
  {
   "cell_type": "code",
   "execution_count": 9,
   "id": "008f5c25",
   "metadata": {},
   "outputs": [
    {
     "data": {
      "text/plain": [
       "(5051, 65536)"
      ]
     },
     "execution_count": 9,
     "metadata": {},
     "output_type": "execute_result"
    }
   ],
   "source": [
    "X_train.shape"
   ]
  },
  {
   "cell_type": "code",
   "execution_count": 10,
   "id": "c7abdb01",
   "metadata": {},
   "outputs": [
    {
     "data": {
      "text/plain": [
       "(5051,)"
      ]
     },
     "execution_count": 10,
     "metadata": {},
     "output_type": "execute_result"
    }
   ],
   "source": [
    "y_train.shape"
   ]
  },
  {
   "cell_type": "code",
   "execution_count": 12,
   "id": "bb69c55a",
   "metadata": {},
   "outputs": [],
   "source": [
    "# 256x256 images\n",
    "\n",
    "X_train = X_train.values.reshape((-1,256,256,1)) "
   ]
  },
  {
   "cell_type": "code",
   "execution_count": 13,
   "id": "17f3a548",
   "metadata": {},
   "outputs": [
    {
     "data": {
      "text/plain": [
       "(5051, 256, 256, 1)"
      ]
     },
     "execution_count": 13,
     "metadata": {},
     "output_type": "execute_result"
    }
   ],
   "source": [
    "X_train.shape"
   ]
  },
  {
   "cell_type": "code",
   "execution_count": 14,
   "id": "c1fff653",
   "metadata": {},
   "outputs": [
    {
     "name": "stderr",
     "output_type": "stream",
     "text": [
      "2022-03-20 11:49:59.075882: I tensorflow/compiler/jit/xla_cpu_device.cc:41] Not creating XLA devices, tf_xla_enable_xla_devices not set\n",
      "2022-03-20 11:49:59.078533: I tensorflow/core/platform/cpu_feature_guard.cc:142] This TensorFlow binary is optimized with oneAPI Deep Neural Network Library (oneDNN) to use the following CPU instructions in performance-critical operations:  SSE4.2\n",
      "To enable them in other operations, rebuild TensorFlow with the appropriate compiler flags.\n"
     ]
    }
   ],
   "source": [
    "#Simple CNN\n",
    "\n",
    "from tensorflow.keras.models import Sequential\n",
    "from tensorflow.keras.layers import Dense, Conv2D, MaxPooling2D, Flatten, InputLayer\n",
    "\n",
    "NN_cnn = Sequential(\n",
    "                        [InputLayer(input_shape=X_train.shape[1:]),\n",
    "                         Conv2D(filters=32, kernel_size=3, activation='relu', padding='same'),\n",
    "                         MaxPooling2D(),\n",
    "                         Conv2D(filters=32, kernel_size=3, activation='relu', padding='same'),\n",
    "                         MaxPooling2D(),\n",
    "                         Conv2D(filters=32, kernel_size=3, activation='relu', padding='same'),\n",
    "                         MaxPooling2D(),\n",
    "                         Flatten(),\n",
    "                         Dense(units=40, activation=\"relu\"),\n",
    "                         Dense(units=10, activation=\"relu\"),\n",
    "                         Dense(units=1, activation=\"sigmoid\"),\n",
    "                         ])\n",
    "\n",
    "NN_cnn.compile(\n",
    "    loss='binary_crossentropy',\n",
    "    optimizer='sgd',\n",
    "    metrics=['accuracy'])\n"
   ]
  },
  {
   "cell_type": "code",
   "execution_count": 15,
   "id": "bd38fe08",
   "metadata": {},
   "outputs": [
    {
     "name": "stderr",
     "output_type": "stream",
     "text": [
      "2022-03-20 11:50:11.411545: I tensorflow/compiler/mlir/mlir_graph_optimization_pass.cc:116] None of the MLIR optimization passes are enabled (registered 2)\n"
     ]
    },
    {
     "name": "stdout",
     "output_type": "stream",
     "text": [
      "Epoch 1/20\n",
      "158/158 [==============================] - 111s 695ms/step - loss: 0.5610 - accuracy: 0.7348\n",
      "Epoch 2/20\n",
      "158/158 [==============================] - 109s 691ms/step - loss: 0.3727 - accuracy: 0.8350\n",
      "Epoch 3/20\n",
      "158/158 [==============================] - 109s 692ms/step - loss: 0.2125 - accuracy: 0.9212\n",
      "Epoch 4/20\n",
      "158/158 [==============================] - 109s 691ms/step - loss: 0.1503 - accuracy: 0.9458\n",
      "Epoch 5/20\n",
      "158/158 [==============================] - 109s 692ms/step - loss: 0.1440 - accuracy: 0.9466\n",
      "Epoch 6/20\n",
      "158/158 [==============================] - 109s 691ms/step - loss: 0.1264 - accuracy: 0.9536\n",
      "Epoch 7/20\n",
      "158/158 [==============================] - 109s 693ms/step - loss: 0.1276 - accuracy: 0.9505\n",
      "Epoch 8/20\n",
      "158/158 [==============================] - 110s 694ms/step - loss: 0.1155 - accuracy: 0.9547\n",
      "Epoch 9/20\n",
      "158/158 [==============================] - 110s 698ms/step - loss: 0.1029 - accuracy: 0.9598\n",
      "Epoch 10/20\n",
      "158/158 [==============================] - 110s 694ms/step - loss: 0.1092 - accuracy: 0.9590\n",
      "Epoch 11/20\n",
      "158/158 [==============================] - 110s 695ms/step - loss: 0.0896 - accuracy: 0.9677\n",
      "Epoch 12/20\n",
      "158/158 [==============================] - 109s 692ms/step - loss: 0.0822 - accuracy: 0.9736\n",
      "Epoch 13/20\n",
      "158/158 [==============================] - 111s 701ms/step - loss: 0.0811 - accuracy: 0.9673\n",
      "Epoch 14/20\n",
      "158/158 [==============================] - 110s 694ms/step - loss: 0.0904 - accuracy: 0.9627\n",
      "Epoch 15/20\n",
      "158/158 [==============================] - 110s 694ms/step - loss: 0.0730 - accuracy: 0.9743\n",
      "Epoch 16/20\n",
      "158/158 [==============================] - 110s 694ms/step - loss: 0.0723 - accuracy: 0.9749\n",
      "Epoch 17/20\n",
      "158/158 [==============================] - 110s 698ms/step - loss: 0.0770 - accuracy: 0.9719\n",
      "Epoch 18/20\n",
      "158/158 [==============================] - 111s 702ms/step - loss: 0.0704 - accuracy: 0.9753\n",
      "Epoch 19/20\n",
      "158/158 [==============================] - 109s 692ms/step - loss: 0.0727 - accuracy: 0.9754\n",
      "Epoch 20/20\n",
      "158/158 [==============================] - 110s 693ms/step - loss: 0.0575 - accuracy: 0.9785\n"
     ]
    },
    {
     "data": {
      "text/plain": [
       "<tensorflow.python.keras.callbacks.History at 0x7fd8381cffa0>"
      ]
     },
     "execution_count": 15,
     "metadata": {},
     "output_type": "execute_result"
    }
   ],
   "source": [
    "NN_cnn.fit(x=X_train, y=y_train, epochs=20)"
   ]
  },
  {
   "cell_type": "code",
   "execution_count": 16,
   "id": "fd52b07f",
   "metadata": {},
   "outputs": [
    {
     "data": {
      "text/plain": [
       "(16, 256, 256, 1)"
      ]
     },
     "execution_count": 16,
     "metadata": {},
     "output_type": "execute_result"
    }
   ],
   "source": [
    "# 256x256 images for val set\n",
    "\n",
    "X_val = X_val.values.reshape((-1,256,256,1)) \n",
    "X_val.shape"
   ]
  },
  {
   "cell_type": "code",
   "execution_count": 17,
   "id": "56a27e16",
   "metadata": {},
   "outputs": [
    {
     "name": "stdout",
     "output_type": "stream",
     "text": [
      "Confusion matrix:\n",
      " [[5 3]\n",
      " [0 8]]\n",
      "Val accuracy: 81.2500 %\n",
      "              precision    recall  f1-score   support\n",
      "\n",
      "           0      1.000     0.625     0.769         8\n",
      "           1      0.727     1.000     0.842         8\n",
      "\n",
      "    accuracy                          0.812        16\n",
      "   macro avg      0.864     0.812     0.806        16\n",
      "weighted avg      0.864     0.812     0.806        16\n",
      "\n"
     ]
    }
   ],
   "source": [
    "# Val Prediction using CNN\n",
    "y_val_nn = NN_cnn.predict(X_val)\n",
    "\n",
    "#convert  y_test_nn prob to  binary y_test_nn_b\n",
    "\n",
    "y_val_nn_b = y_val_nn\n",
    "y_val_nn_b[y_val_nn_b  < 0.50 ] = 0\n",
    "y_val_nn_b[y_val_nn_b  >= 0.50 ] = 1\n",
    "\n",
    "#Neural Network Test Accuracy\n",
    "\n",
    "val_accuracy = accuracy_score(y_val, y_val_nn)*100\n",
    "#test_auc_roc = roc_auc_score(y_test, y_test_nn)*100\n",
    "\n",
    "print('Confusion matrix:\\n', confusion_matrix(y_val, y_val_nn))\n",
    "\n",
    "#print('Test AUC: %.4f %%' % test_auc_roc)\n",
    "\n",
    "print('Val accuracy: %.4f %%' % val_accuracy)\n",
    "\n",
    "#Classification report for NN model\n",
    "\n",
    "print(classification_report(y_val, y_val_nn_b, digits=3))"
   ]
  },
  {
   "cell_type": "code",
   "execution_count": 18,
   "id": "0036fdd3",
   "metadata": {},
   "outputs": [
    {
     "data": {
      "text/plain": [
       "(618, 256, 256, 1)"
      ]
     },
     "execution_count": 18,
     "metadata": {},
     "output_type": "execute_result"
    }
   ],
   "source": [
    "# 256x256 images for test set\n",
    "\n",
    "X_test = X_test.values.reshape((-1,256,256,1)) \n",
    "X_test.shape"
   ]
  },
  {
   "cell_type": "code",
   "execution_count": 19,
   "id": "4c3e5954",
   "metadata": {},
   "outputs": [
    {
     "name": "stdout",
     "output_type": "stream",
     "text": [
      "Confusion matrix:\n",
      " [[106 125]\n",
      " [  3 384]]\n",
      "Test accuracy: 79.2880 %\n",
      "              precision    recall  f1-score   support\n",
      "\n",
      "           0      0.972     0.459     0.624       231\n",
      "           1      0.754     0.992     0.857       387\n",
      "\n",
      "    accuracy                          0.793       618\n",
      "   macro avg      0.863     0.726     0.740       618\n",
      "weighted avg      0.836     0.793     0.770       618\n",
      "\n"
     ]
    }
   ],
   "source": [
    "# Test Prediction using Neural Network\n",
    "y_test_nn = NN_cnn.predict(X_test)\n",
    "\n",
    "#convert  y_test_nn prob to  binary y_test_nn_b\n",
    "\n",
    "y_test_nn_b = y_test_nn\n",
    "y_test_nn_b[y_test_nn_b  < 0.50 ] = 0\n",
    "y_test_nn_b[y_test_nn_b  >= 0.50 ] = 1\n",
    "\n",
    "#Neural Network Test Accuracy\n",
    "\n",
    "test_accuracy = accuracy_score(y_test, y_test_nn)*100\n",
    "#test_auc_roc = roc_auc_score(y_test, y_test_nn)*100\n",
    "\n",
    "print('Confusion matrix:\\n', confusion_matrix(y_test, y_test_nn))\n",
    "\n",
    "#print('Test AUC: %.4f %%' % test_auc_roc)\n",
    "\n",
    "print('Test accuracy: %.4f %%' % test_accuracy)\n",
    "\n",
    "#Classification report for NN model\n",
    "\n",
    "print(classification_report(y_test, y_test_nn_b, digits=3))"
   ]
  },
  {
   "cell_type": "code",
   "execution_count": 20,
   "id": "be00369d",
   "metadata": {},
   "outputs": [
    {
     "data": {
      "text/plain": [
       "<AxesSubplot:>"
      ]
     },
     "execution_count": 20,
     "metadata": {},
     "output_type": "execute_result"
    },
    {
     "data": {
      "image/png": "[encoded data removed]",
      "text/plain": [
       "<Figure size 432x288 with 2 Axes>"
      ]
     },
     "metadata": {
      "needs_background": "light"
     },
     "output_type": "display_data"
    }
   ],
   "source": [
    "#confusion matrix as heat map\n",
    "\n",
    "import seaborn as sns\n",
    "c_matrix =confusion_matrix(y_test, y_test_nn)\n",
    "\n",
    "\n",
    "group_names = ['Normal', 'False Positive', 'False Negative', 'Pneumonia']\n",
    "group_counts = ['{0:0.0f}'.format(value) for value in c_matrix.flatten()]\n",
    "\n",
    "labels = [f'{v1}\\n{v2}' for v1, v2  in zip(group_names,group_counts)]\n",
    "labels = np.asarray(labels).reshape(2,2)\n",
    "\n",
    "\n",
    "sns.heatmap(c_matrix, annot=labels, fmt='', cmap='Blues')"
   ]
  },
  {
   "cell_type": "code",
   "execution_count": null,
   "id": "87625f2a",
   "metadata": {},
   "outputs": [],
   "source": []
  },
  {
   "cell_type": "code",
   "execution_count": null,
   "id": "056e1a0e",
   "metadata": {},
   "outputs": [],
   "source": []
  },
  {
   "cell_type": "code",
   "execution_count": null,
   "id": "21e2a89d",
   "metadata": {},
   "outputs": [],
   "source": []
  }
 ],
 "metadata": {
  "kernelspec": {
   "display_name": "Python [conda env:metis] *",
   "language": "python",
   "name": "conda-env-metis-py"
  },
  "language_info": {
   "codemirror_mode": {
    "name": "ipython",
    "version": 3
   },
   "file_extension": ".py",
   "mimetype": "text/x-python",
   "name": "python",
   "nbconvert_exporter": "python",
   "pygments_lexer": "ipython3",
   "version": "3.8.10"
  }
 },
 "nbformat": 4,
 "nbformat_minor": 5
}
