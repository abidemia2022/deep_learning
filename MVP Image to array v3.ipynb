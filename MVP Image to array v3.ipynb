{
 "cells": [
  {
   "cell_type": "code",
   "execution_count": 51,
   "id": "45d6958a",
   "metadata": {},
   "outputs": [],
   "source": [
    "from PIL import Image\n",
    "from numpy import asarray\n",
    "import pandas as pd"
   ]
  },
  {
   "cell_type": "code",
   "execution_count": 52,
   "id": "2397279d",
   "metadata": {},
   "outputs": [
    {
     "name": "stdout",
     "output_type": "stream",
     "text": [
      "<class 'numpy.ndarray'>\n",
      "(256, 256)\n"
     ]
    }
   ],
   "source": [
    "# load the image\n",
    "image = Image.open('0 resized.jpg')\n",
    "# convert image to numpy array\n",
    "data = asarray(image)\n",
    "print(type(data))\n",
    "# summarize shape\n",
    "print(data.shape)"
   ]
  },
  {
   "cell_type": "code",
   "execution_count": 53,
   "id": "4412a852",
   "metadata": {},
   "outputs": [],
   "source": [
    "#flatten data array\n",
    "\n",
    "data_r = data.reshape(-1)\n",
    "#1D numpy array to dataframe\n",
    "\n",
    "df = pd.DataFrame(data_r.reshape(-1, len(data_r)))"
   ]
  },
  {
   "cell_type": "code",
   "execution_count": 54,
   "id": "567b3382",
   "metadata": {},
   "outputs": [],
   "source": [
    "# load 2nd image\n",
    "image = Image.open('1 resized.jpg')\n",
    "# convert image to numpy array\n",
    "data2 = asarray(image)\n",
    "data_r = data2.reshape(-1)\n",
    "df2 = pd.DataFrame(data_r.reshape(-1, len(data_r)))"
   ]
  },
  {
   "cell_type": "code",
   "execution_count": 55,
   "id": "b3c9267e",
   "metadata": {},
   "outputs": [],
   "source": [
    "combined_df = pd.concat([df, df2], ignore_index=True)\n",
    "df = combined_df"
   ]
  },
  {
   "cell_type": "code",
   "execution_count": 56,
   "id": "656f8531",
   "metadata": {},
   "outputs": [],
   "source": [
    "#function to load images\n",
    "\n",
    "def load_image(file_name):\n",
    "    image = Image.open(file_name)\n",
    "    # convert image to numpy array\n",
    "    data2 = asarray(image)\n",
    "    data_r = data2.reshape(-1)\n",
    "    df2 = pd.DataFrame(data_r.reshape(-1, len(data_r)))\n",
    "    return df2"
   ]
  },
  {
   "cell_type": "code",
   "execution_count": 57,
   "id": "fc7b8008",
   "metadata": {},
   "outputs": [],
   "source": [
    "#Add  3rd image to dataframe\n",
    "df2 = load_image('2 resized.jpg')\n",
    "combined_df = pd.concat([df, df2], ignore_index=True)\n",
    "df = combined_df"
   ]
  },
  {
   "cell_type": "code",
   "execution_count": 58,
   "id": "ba419b00",
   "metadata": {},
   "outputs": [],
   "source": [
    "#Add rest of images to dataframe from folder\n",
    "\n",
    "for i in range(3, 390):\n",
    "    df2 = load_image(str(i) +' resized.jpg')\n",
    "    combined_df = pd.concat([df, df2], ignore_index=True)\n",
    "    df = combined_df"
   ]
  },
  {
   "cell_type": "code",
   "execution_count": 59,
   "id": "e5fef79c",
   "metadata": {},
   "outputs": [
    {
     "data": {
      "text/plain": [
       "(390, 65536)"
      ]
     },
     "execution_count": 59,
     "metadata": {},
     "output_type": "execute_result"
    }
   ],
   "source": [
    "df.shape"
   ]
  },
  {
   "cell_type": "code",
   "execution_count": 60,
   "id": "71458f20",
   "metadata": {},
   "outputs": [],
   "source": [
    "#dataframe to pickle\n",
    "\n",
    "df.to_pickle(\"p_test_390.pkl\")"
   ]
  },
  {
   "cell_type": "code",
   "execution_count": null,
   "id": "a8f56b34",
   "metadata": {},
   "outputs": [],
   "source": []
  }
 ],
 "metadata": {
  "kernelspec": {
   "display_name": "Python [conda env:metis] *",
   "language": "python",
   "name": "conda-env-metis-py"
  },
  "language_info": {
   "codemirror_mode": {
    "name": "ipython",
    "version": 3
   },
   "file_extension": ".py",
   "mimetype": "text/x-python",
   "name": "python",
   "nbconvert_exporter": "python",
   "pygments_lexer": "ipython3",
   "version": "3.8.10"
  }
 },
 "nbformat": 4,
 "nbformat_minor": 5
}
