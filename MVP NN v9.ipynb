{
 "cells": [
  {
   "cell_type": "code",
   "execution_count": 40,
   "id": "d41123c5",
   "metadata": {},
   "outputs": [],
   "source": [
    "import numpy as np\n",
    "import pandas as pd\n",
    "from sklearn.model_selection import train_test_split\n",
    "from sklearn.linear_model import LogisticRegression\n",
    "import matplotlib.pyplot as plt\n",
    "from sklearn.metrics import log_loss,roc_curve, roc_auc_score, classification_report, accuracy_score, confusion_matrix \n",
    "from sklearn import preprocessing\n",
    "from tensorflow import keras"
   ]
  },
  {
   "cell_type": "code",
   "execution_count": 41,
   "id": "9a198574",
   "metadata": {},
   "outputs": [],
   "source": [
    "#reading dataframes\n",
    "\n",
    "train_data = pd.read_pickle('train_all.pkl')\n",
    "val_data = pd.read_pickle('val_all.pkl')\n",
    "test_data =pd.read_pickle('test_all.pkl')"
   ]
  },
  {
   "cell_type": "code",
   "execution_count": 42,
   "id": "98ceb013",
   "metadata": {},
   "outputs": [
    {
     "data": {
      "text/plain": [
       "(5051, 65537)"
      ]
     },
     "execution_count": 42,
     "metadata": {},
     "output_type": "execute_result"
    }
   ],
   "source": [
    "train_data.shape"
   ]
  },
  {
   "cell_type": "code",
   "execution_count": 43,
   "id": "11b1ea67",
   "metadata": {},
   "outputs": [
    {
     "data": {
      "text/plain": [
       "(618, 65537)"
      ]
     },
     "execution_count": 43,
     "metadata": {},
     "output_type": "execute_result"
    }
   ],
   "source": [
    "test_data.shape"
   ]
  },
  {
   "cell_type": "code",
   "execution_count": 44,
   "id": "6877089c",
   "metadata": {},
   "outputs": [],
   "source": [
    "# X and target y for training data\n",
    "X_train= train_data.iloc[:,0:-1]\n",
    "y_train= train_data.iloc[:, -1]\n",
    "\n",
    "# X and target y for val data\n",
    "X_val= val_data.iloc[:,0:-1]\n",
    "y_val= val_data.iloc[:, -1]\n",
    "\n",
    "\n",
    "# X and target y for test data\n",
    "X_test= test_data.iloc[:,0:-1]\n",
    "y_test= test_data.iloc[:, -1]"
   ]
  },
  {
   "cell_type": "code",
   "execution_count": 45,
   "id": "c7d23f5c",
   "metadata": {},
   "outputs": [],
   "source": [
    "#X_train.head()"
   ]
  },
  {
   "cell_type": "code",
   "execution_count": 46,
   "id": "e24d9beb",
   "metadata": {},
   "outputs": [],
   "source": [
    "#Rescale values by dividing by 255\n",
    "\n",
    "X_train =X_train.div(255)\n",
    "X_val =X_val.div(255)\n",
    "X_test =X_test.div(255)"
   ]
  },
  {
   "cell_type": "code",
   "execution_count": 47,
   "id": "6f6f34eb",
   "metadata": {},
   "outputs": [],
   "source": [
    "#X_train.head()"
   ]
  },
  {
   "cell_type": "code",
   "execution_count": 48,
   "id": "008f5c25",
   "metadata": {},
   "outputs": [
    {
     "data": {
      "text/plain": [
       "(5051, 65536)"
      ]
     },
     "execution_count": 48,
     "metadata": {},
     "output_type": "execute_result"
    }
   ],
   "source": [
    "X_train.shape"
   ]
  },
  {
   "cell_type": "code",
   "execution_count": 49,
   "id": "c7abdb01",
   "metadata": {},
   "outputs": [
    {
     "data": {
      "text/plain": [
       "(5051,)"
      ]
     },
     "execution_count": 49,
     "metadata": {},
     "output_type": "execute_result"
    }
   ],
   "source": [
    "y_train.shape"
   ]
  },
  {
   "cell_type": "code",
   "execution_count": 50,
   "id": "bb69c55a",
   "metadata": {},
   "outputs": [],
   "source": [
    "# 256x256 images\n",
    "\n",
    "X_train = X_train.values.reshape((-1,256,256,1)) "
   ]
  },
  {
   "cell_type": "code",
   "execution_count": 51,
   "id": "17f3a548",
   "metadata": {},
   "outputs": [
    {
     "data": {
      "text/plain": [
       "(5051, 256, 256, 1)"
      ]
     },
     "execution_count": 51,
     "metadata": {},
     "output_type": "execute_result"
    }
   ],
   "source": [
    "X_train.shape"
   ]
  },
  {
   "cell_type": "code",
   "execution_count": 52,
   "id": "c1fff653",
   "metadata": {},
   "outputs": [],
   "source": [
    "#Simple CNN  with  Dropout\n",
    "\n",
    "from tensorflow.keras.models import Sequential\n",
    "from tensorflow.keras.layers import Dense, Conv2D, MaxPooling2D, Flatten, InputLayer,BatchNormalization, Dropout \n",
    "\n",
    "NN_cnn = Sequential(\n",
    "                        [InputLayer(input_shape=X_train.shape[1:]),\n",
    "                         Conv2D(filters=32, kernel_size=3, activation='relu', padding='same'),\n",
    "                         MaxPooling2D(),\n",
    "                         Conv2D(filters=32, kernel_size=3, activation='relu', padding='same'),\n",
    "                         MaxPooling2D(),\n",
    "                         Conv2D(filters=32, kernel_size=3, activation='relu', padding='same'),\n",
    "                         MaxPooling2D(),\n",
    "                         Flatten(),\n",
    "                         Dense(units=40, activation=\"relu\"),\n",
    "                         Dropout(0.05),\n",
    "                         Dense(units=10, activation=\"relu\"),\n",
    "                         Dropout(0.05),\n",
    "                         Dense(units=1, activation=\"sigmoid\"),\n",
    "                         ])\n",
    "\n",
    "NN_cnn.compile(\n",
    "    loss='binary_crossentropy',\n",
    "    optimizer='sgd',\n",
    "    metrics=['accuracy'])\n"
   ]
  },
  {
   "cell_type": "code",
   "execution_count": 53,
   "id": "bd38fe08",
   "metadata": {},
   "outputs": [
    {
     "name": "stdout",
     "output_type": "stream",
     "text": [
      "Epoch 1/15\n",
      "158/158 [==============================] - 113s 712ms/step - loss: 0.5873 - accuracy: 0.7329\n",
      "Epoch 2/15\n",
      "158/158 [==============================] - 113s 714ms/step - loss: 0.4486 - accuracy: 0.7934\n",
      "Epoch 3/15\n",
      "158/158 [==============================] - 116s 732ms/step - loss: 0.2743 - accuracy: 0.8879\n",
      "Epoch 4/15\n",
      "158/158 [==============================] - 113s 715ms/step - loss: 0.2033 - accuracy: 0.9231\n",
      "Epoch 5/15\n",
      "158/158 [==============================] - 113s 714ms/step - loss: 0.1717 - accuracy: 0.9387\n",
      "Epoch 6/15\n",
      "158/158 [==============================] - 111s 702ms/step - loss: 0.1513 - accuracy: 0.9458\n",
      "Epoch 7/15\n",
      "158/158 [==============================] - 116s 735ms/step - loss: 0.1398 - accuracy: 0.9503\n",
      "Epoch 8/15\n",
      "158/158 [==============================] - 115s 730ms/step - loss: 0.1287 - accuracy: 0.9549\n",
      "Epoch 9/15\n",
      "158/158 [==============================] - 115s 730ms/step - loss: 0.1266 - accuracy: 0.9509\n",
      "Epoch 10/15\n",
      "158/158 [==============================] - 121s 766ms/step - loss: 0.1182 - accuracy: 0.9573\n",
      "Epoch 11/15\n",
      "158/158 [==============================] - 119s 752ms/step - loss: 0.1078 - accuracy: 0.9617\n",
      "Epoch 12/15\n",
      "158/158 [==============================] - 116s 730ms/step - loss: 0.1082 - accuracy: 0.9613\n",
      "Epoch 13/15\n",
      "158/158 [==============================] - 114s 721ms/step - loss: 0.1015 - accuracy: 0.9655\n",
      "Epoch 14/15\n",
      "158/158 [==============================] - 115s 728ms/step - loss: 0.1039 - accuracy: 0.9609\n",
      "Epoch 15/15\n",
      "158/158 [==============================] - 111s 705ms/step - loss: 0.0954 - accuracy: 0.9676\n"
     ]
    },
    {
     "data": {
      "text/plain": [
       "<tensorflow.python.keras.callbacks.History at 0x7f96005560d0>"
      ]
     },
     "execution_count": 53,
     "metadata": {},
     "output_type": "execute_result"
    }
   ],
   "source": [
    "NN_cnn.fit(x=X_train, y=y_train, epochs=15)"
   ]
  },
  {
   "cell_type": "code",
   "execution_count": 54,
   "id": "fd52b07f",
   "metadata": {},
   "outputs": [
    {
     "data": {
      "text/plain": [
       "(16, 256, 256, 1)"
      ]
     },
     "execution_count": 54,
     "metadata": {},
     "output_type": "execute_result"
    }
   ],
   "source": [
    "# 256x256 images for val set\n",
    "\n",
    "X_val = X_val.values.reshape((-1,256,256,1)) \n",
    "X_val.shape"
   ]
  },
  {
   "cell_type": "code",
   "execution_count": 55,
   "id": "56a27e16",
   "metadata": {},
   "outputs": [
    {
     "name": "stdout",
     "output_type": "stream",
     "text": [
      "Confusion matrix:\n",
      " [[8 0]\n",
      " [1 7]]\n",
      "Val accuracy: 93.7500 %\n",
      "              precision    recall  f1-score   support\n",
      "\n",
      "           0      0.889     1.000     0.941         8\n",
      "           1      1.000     0.875     0.933         8\n",
      "\n",
      "    accuracy                          0.938        16\n",
      "   macro avg      0.944     0.938     0.937        16\n",
      "weighted avg      0.944     0.938     0.937        16\n",
      "\n"
     ]
    }
   ],
   "source": [
    "# Val Prediction using CNN\n",
    "y_val_nn = NN_cnn.predict(X_val)\n",
    "\n",
    "#convert  y_test_nn prob to  binary y_test_nn_b\n",
    "\n",
    "y_val_nn_b = y_val_nn\n",
    "y_val_nn_b[y_val_nn_b  < 0.50 ] = 0\n",
    "y_val_nn_b[y_val_nn_b  >= 0.50 ] = 1\n",
    "\n",
    "#Neural Network Test Accuracy\n",
    "\n",
    "val_accuracy = accuracy_score(y_val, y_val_nn)*100\n",
    "#test_auc_roc = roc_auc_score(y_test, y_test_nn)*100\n",
    "\n",
    "print('Confusion matrix:\\n', confusion_matrix(y_val, y_val_nn))\n",
    "\n",
    "#print('Test AUC: %.4f %%' % test_auc_roc)\n",
    "\n",
    "print('Val accuracy: %.4f %%' % val_accuracy)\n",
    "\n",
    "#Classification report for NN model\n",
    "\n",
    "print(classification_report(y_val, y_val_nn_b, digits=3))"
   ]
  },
  {
   "cell_type": "code",
   "execution_count": 56,
   "id": "0036fdd3",
   "metadata": {},
   "outputs": [
    {
     "data": {
      "text/plain": [
       "(618, 256, 256, 1)"
      ]
     },
     "execution_count": 56,
     "metadata": {},
     "output_type": "execute_result"
    }
   ],
   "source": [
    "# 256x256 images for test set\n",
    "\n",
    "X_test = X_test.values.reshape((-1,256,256,1)) \n",
    "X_test.shape"
   ]
  },
  {
   "cell_type": "code",
   "execution_count": 57,
   "id": "4c3e5954",
   "metadata": {},
   "outputs": [
    {
     "name": "stdout",
     "output_type": "stream",
     "text": [
      "Confusion matrix:\n",
      " [[149  82]\n",
      " [ 14 373]]\n",
      "Test accuracy: 84.4660 %\n",
      "              precision    recall  f1-score   support\n",
      "\n",
      "           0      0.914     0.645     0.756       231\n",
      "           1      0.820     0.964     0.886       387\n",
      "\n",
      "    accuracy                          0.845       618\n",
      "   macro avg      0.867     0.804     0.821       618\n",
      "weighted avg      0.855     0.845     0.838       618\n",
      "\n"
     ]
    }
   ],
   "source": [
    "# Test Prediction using Neural Network\n",
    "y_test_nn = NN_cnn.predict(X_test)\n",
    "\n",
    "#convert  y_test_nn prob to  binary y_test_nn_b\n",
    "\n",
    "y_test_nn_b = y_test_nn\n",
    "y_test_nn_b[y_test_nn_b  < 0.50 ] = 0\n",
    "y_test_nn_b[y_test_nn_b  >= 0.50 ] = 1\n",
    "\n",
    "#Neural Network Test Accuracy\n",
    "\n",
    "test_accuracy = accuracy_score(y_test, y_test_nn)*100\n",
    "#test_auc_roc = roc_auc_score(y_test, y_test_nn)*100\n",
    "\n",
    "print('Confusion matrix:\\n', confusion_matrix(y_test, y_test_nn))\n",
    "\n",
    "#print('Test AUC: %.4f %%' % test_auc_roc)\n",
    "\n",
    "print('Test accuracy: %.4f %%' % test_accuracy)\n",
    "\n",
    "#Classification report for NN model\n",
    "\n",
    "print(classification_report(y_test, y_test_nn_b, digits=3))"
   ]
  },
  {
   "cell_type": "code",
   "execution_count": 58,
   "id": "be00369d",
   "metadata": {},
   "outputs": [
    {
     "data": {
      "text/plain": [
       "<AxesSubplot:>"
      ]
     },
     "execution_count": 58,
     "metadata": {},
     "output_type": "execute_result"
    },
    {
     "data": {
      "image/png": "[encoded data removed]",
      "text/plain": [
       "<Figure size 432x288 with 2 Axes>"
      ]
     },
     "metadata": {
      "needs_background": "light"
     },
     "output_type": "display_data"
    }
   ],
   "source": [
    "#confusion matrix as heat map\n",
    "\n",
    "import seaborn as sns\n",
    "c_matrix =confusion_matrix(y_test, y_test_nn)\n",
    "\n",
    "\n",
    "group_names = ['Normal', 'False Positive', 'False Negative', 'Pneumonia']\n",
    "group_counts = ['{0:0.0f}'.format(value) for value in c_matrix.flatten()]\n",
    "\n",
    "labels = [f'{v1}\\n{v2}' for v1, v2  in zip(group_names,group_counts)]\n",
    "labels = np.asarray(labels).reshape(2,2)\n",
    "\n",
    "\n",
    "sns.heatmap(c_matrix, annot=labels, fmt='', cmap='Blues')"
   ]
  },
  {
   "cell_type": "code",
   "execution_count": null,
   "id": "87625f2a",
   "metadata": {},
   "outputs": [],
   "source": []
  },
  {
   "cell_type": "code",
   "execution_count": null,
   "id": "056e1a0e",
   "metadata": {},
   "outputs": [],
   "source": []
  },
  {
   "cell_type": "code",
   "execution_count": null,
   "id": "7bb4a6d4",
   "metadata": {},
   "outputs": [],
   "source": []
  }
 ],
 "metadata": {
  "kernelspec": {
   "display_name": "Python [conda env:metis] *",
   "language": "python",
   "name": "conda-env-metis-py"
  },
  "language_info": {
   "codemirror_mode": {
    "name": "ipython",
    "version": 3
   },
   "file_extension": ".py",
   "mimetype": "text/x-python",
   "name": "python",
   "nbconvert_exporter": "python",
   "pygments_lexer": "ipython3",
   "version": "3.8.10"
  }
 },
 "nbformat": 4,
 "nbformat_minor": 5
}
