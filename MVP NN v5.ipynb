{
 "cells": [
  {
   "cell_type": "code",
   "execution_count": 1,
   "id": "d41123c5",
   "metadata": {},
   "outputs": [],
   "source": [
    "import numpy as np\n",
    "import pandas as pd\n",
    "from sklearn.model_selection import train_test_split\n",
    "from sklearn.linear_model import LogisticRegression\n",
    "import matplotlib.pyplot as plt\n",
    "from sklearn.metrics import log_loss,roc_curve, roc_auc_score, classification_report, accuracy_score, confusion_matrix \n",
    "from sklearn import preprocessing\n",
    "from tensorflow import keras"
   ]
  },
  {
   "cell_type": "code",
   "execution_count": 2,
   "id": "9a198574",
   "metadata": {},
   "outputs": [],
   "source": [
    "#reading dataframes\n",
    "\n",
    "train_data = pd.read_pickle('train_all.pkl')\n",
    "val_data = pd.read_pickle('val_all.pkl')\n",
    "test_data =pd.read_pickle('test_all.pkl')"
   ]
  },
  {
   "cell_type": "code",
   "execution_count": 51,
   "id": "98ceb013",
   "metadata": {},
   "outputs": [
    {
     "data": {
      "text/plain": [
       "(5051, 65537)"
      ]
     },
     "execution_count": 51,
     "metadata": {},
     "output_type": "execute_result"
    }
   ],
   "source": [
    "train_data.shape"
   ]
  },
  {
   "cell_type": "code",
   "execution_count": 53,
   "id": "11b1ea67",
   "metadata": {},
   "outputs": [
    {
     "data": {
      "text/plain": [
       "(618, 65537)"
      ]
     },
     "execution_count": 53,
     "metadata": {},
     "output_type": "execute_result"
    }
   ],
   "source": [
    "test_data.shape"
   ]
  },
  {
   "cell_type": "code",
   "execution_count": 3,
   "id": "6877089c",
   "metadata": {},
   "outputs": [],
   "source": [
    "# X and target y for training data\n",
    "X_train= train_data.iloc[:,0:-1]\n",
    "y_train= train_data.iloc[:, -1]\n",
    "\n",
    "# X and target y for val data\n",
    "X_val= val_data.iloc[:,0:-1]\n",
    "y_val= val_data.iloc[:, -1]\n",
    "\n",
    "\n",
    "# X and target y for test data\n",
    "X_test= test_data.iloc[:,0:-1]\n",
    "y_test= test_data.iloc[:, -1]"
   ]
  },
  {
   "cell_type": "code",
   "execution_count": 4,
   "id": "c7d23f5c",
   "metadata": {},
   "outputs": [],
   "source": [
    "#X_train.head()"
   ]
  },
  {
   "cell_type": "code",
   "execution_count": 5,
   "id": "e24d9beb",
   "metadata": {},
   "outputs": [],
   "source": [
    "#Rescale values by dividing by 255\n",
    "\n",
    "X_train =X_train.div(255)\n",
    "X_val =X_val.div(255)\n",
    "X_test =X_test.div(255)"
   ]
  },
  {
   "cell_type": "code",
   "execution_count": 6,
   "id": "6f6f34eb",
   "metadata": {},
   "outputs": [],
   "source": [
    "#X_train.head()"
   ]
  },
  {
   "cell_type": "code",
   "execution_count": 57,
   "id": "008f5c25",
   "metadata": {},
   "outputs": [
    {
     "name": "stderr",
     "output_type": "stream",
     "text": [
      "/Users/abidemiadeboje/opt/anaconda3/envs/metis/lib/python3.8/site-packages/sklearn/linear_model/_logistic.py:763: ConvergenceWarning: lbfgs failed to converge (status=1):\n",
      "STOP: TOTAL NO. of ITERATIONS REACHED LIMIT.\n",
      "\n",
      "Increase the number of iterations (max_iter) or scale the data as shown in:\n",
      "    https://scikit-learn.org/stable/modules/preprocessing.html\n",
      "Please also refer to the documentation for alternative solver options:\n",
      "    https://scikit-learn.org/stable/modules/linear_model.html#logistic-regression\n",
      "  n_iter_i = _check_optimize_result(\n"
     ]
    },
    {
     "data": {
      "text/plain": [
       "LogisticRegression(max_iter=1000)"
      ]
     },
     "execution_count": 57,
     "metadata": {},
     "output_type": "execute_result"
    }
   ],
   "source": [
    "#Logistic Regresssion model\n",
    "\n",
    "from sklearn.linear_model import LogisticRegression\n",
    "\n",
    "logreg = LogisticRegression(max_iter=1000)\n",
    "logreg.fit(X_train,y_train)"
   ]
  },
  {
   "cell_type": "code",
   "execution_count": 58,
   "id": "bb69c55a",
   "metadata": {},
   "outputs": [
    {
     "name": "stdout",
     "output_type": "stream",
     "text": [
      "Confusion matrix:\n",
      " [[1340    0]\n",
      " [   0 3711]]\n",
      "Training AUC: 100.0000 %\n",
      "Training accuracy: 100.0000 %\n"
     ]
    }
   ],
   "source": [
    "#Evaluate model on train set\n",
    "\n",
    "from sklearn.metrics import log_loss,roc_curve, roc_auc_score, classification_report, accuracy_score, confusion_matrix \n",
    "\n",
    "\n",
    "\n",
    "y_pred_train = logreg.predict(X_train)\n",
    "y_prob_pred_train = logreg.predict_proba(X_train)[:,1]\n",
    "\n",
    "train_accuracy = accuracy_score(y_train, y_pred_train)*100\n",
    "train_auc_roc = roc_auc_score(y_train, y_prob_pred_train)*100\n",
    "\n",
    "print('Confusion matrix:\\n', confusion_matrix(y_train, y_pred_train))\n",
    "\n",
    "print('Training AUC: %.4f %%' % train_auc_roc)\n",
    "\n",
    "print('Training accuracy: %.4f %%' % train_accuracy)"
   ]
  },
  {
   "cell_type": "code",
   "execution_count": 50,
   "id": "17f3a548",
   "metadata": {},
   "outputs": [
    {
     "data": {
      "text/plain": [
       "(5051, 65536)"
      ]
     },
     "execution_count": 50,
     "metadata": {},
     "output_type": "execute_result"
    }
   ],
   "source": [
    "X_val.shape"
   ]
  },
  {
   "cell_type": "code",
   "execution_count": 59,
   "id": "c1fff653",
   "metadata": {},
   "outputs": [
    {
     "name": "stdout",
     "output_type": "stream",
     "text": [
      "Confusion matrix:\n",
      " [[5 3]\n",
      " [0 8]]\n",
      "Test AUC: 100.0000 %\n",
      "Test accuracy: 81.2500 %\n"
     ]
    }
   ],
   "source": [
    "#Evaluate model on val set\n",
    "\n",
    "y_pred_val = logreg.predict(X_val)\n",
    "y_prob_pred_val = logreg.predict_proba(X_val)[:,1]\n",
    "\n",
    "val_accuracy = accuracy_score(y_val, y_pred_val)*100\n",
    "val_auc_roc = roc_auc_score(y_val, y_prob_pred_val)*100\n",
    "\n",
    "print('Confusion matrix:\\n', confusion_matrix(y_val, y_pred_val))\n",
    "\n",
    "print('Val AUC: %.4f %%' % val_auc_roc)\n",
    "\n",
    "print('Val accuracy: %.4f %%' % val_accuracy)"
   ]
  },
  {
   "cell_type": "code",
   "execution_count": 60,
   "id": "bd38fe08",
   "metadata": {},
   "outputs": [
    {
     "name": "stdout",
     "output_type": "stream",
     "text": [
      "Confusion matrix:\n",
      " [[ 83 148]\n",
      " [  3 384]]\n",
      "Test AUC: 90.3576 %\n",
      "Test accuracy: 75.5663 %\n"
     ]
    }
   ],
   "source": [
    "#Evaluate model on test set\n",
    "\n",
    "\n",
    "y_pred_test = logreg.predict(X_test)\n",
    "y_prob_pred_test = logreg.predict_proba(X_test)[:,1]\n",
    "\n",
    "test_accuracy = accuracy_score(y_test, y_pred_test)*100\n",
    "test_auc_roc = roc_auc_score(y_test, y_prob_pred_test)*100\n",
    "\n",
    "print('Confusion matrix:\\n', confusion_matrix(y_test, y_pred_test))\n",
    "\n",
    "print('Test AUC: %.4f %%' % test_auc_roc)\n",
    "\n",
    "print('Test accuracy: %.4f %%' % test_accuracy)"
   ]
  },
  {
   "cell_type": "code",
   "execution_count": 62,
   "id": "56a27e16",
   "metadata": {},
   "outputs": [
    {
     "name": "stdout",
     "output_type": "stream",
     "text": [
      "              precision    recall  f1-score   support\n",
      "\n",
      "           0      1.000     0.625     0.769         8\n",
      "           1      0.727     1.000     0.842         8\n",
      "\n",
      "    accuracy                          0.812        16\n",
      "   macro avg      0.864     0.812     0.806        16\n",
      "weighted avg      0.864     0.812     0.806        16\n",
      "\n"
     ]
    }
   ],
   "source": [
    "#Classification report for val data with logreg model\n",
    "print(classification_report(y_val, y_pred_val, digits=3))"
   ]
  },
  {
   "cell_type": "code",
   "execution_count": 63,
   "id": "0036fdd3",
   "metadata": {},
   "outputs": [
    {
     "name": "stdout",
     "output_type": "stream",
     "text": [
      "              precision    recall  f1-score   support\n",
      "\n",
      "           0      0.965     0.359     0.524       231\n",
      "           1      0.722     0.992     0.836       387\n",
      "\n",
      "    accuracy                          0.756       618\n",
      "   macro avg      0.843     0.676     0.680       618\n",
      "weighted avg      0.813     0.756     0.719       618\n",
      "\n"
     ]
    }
   ],
   "source": [
    "#Classification report for test data with logreg model\n",
    "print(classification_report(y_test, y_pred_test, digits=3))"
   ]
  },
  {
   "cell_type": "code",
   "execution_count": 45,
   "id": "4c3e5954",
   "metadata": {},
   "outputs": [
    {
     "name": "stdout",
     "output_type": "stream",
     "text": [
      "Model: \"sequential_9\"\n",
      "_________________________________________________________________\n",
      "Layer (type)                 Output Shape              Param #   \n",
      "=================================================================\n",
      "dense_28 (Dense)             (None, 40)                2621480   \n",
      "_________________________________________________________________\n",
      "dense_29 (Dense)             (None, 10)                410       \n",
      "_________________________________________________________________\n",
      "dense_30 (Dense)             (None, 1)                 11        \n",
      "=================================================================\n",
      "Total params: 2,621,901\n",
      "Trainable params: 2,621,901\n",
      "Non-trainable params: 0\n",
      "_________________________________________________________________\n"
     ]
    }
   ],
   "source": [
    "#Simple NN model\n",
    "\n",
    "ff_model = keras.Sequential([\n",
    "    keras.layers.InputLayer(input_shape=X_train.shape[1:]),\n",
    "    keras.layers.Dense(units=40, activation=\"relu\"),\n",
    "    keras.layers.Dense(units=10, activation=\"relu\"),\n",
    "    keras.layers.Dense(units=1, activation=\"sigmoid\"),\n",
    "])\n",
    "ff_model.compile(\"sgd\", loss=\"binary_crossentropy\", metrics=[keras.metrics.FalsePositives()])\n",
    "ff_model.summary()"
   ]
  },
  {
   "cell_type": "code",
   "execution_count": 46,
   "id": "be00369d",
   "metadata": {},
   "outputs": [
    {
     "name": "stdout",
     "output_type": "stream",
     "text": [
      "Epoch 1/20\n",
      "158/158 [==============================] - 4s 20ms/step - loss: 0.5546 - false_positives_9: 663.8176\n",
      "Epoch 2/20\n",
      "158/158 [==============================] - 3s 19ms/step - loss: 0.3623 - false_positives_9: 368.4025\n",
      "Epoch 3/20\n",
      "158/158 [==============================] - 3s 18ms/step - loss: 0.3291 - false_positives_9: 185.1321\n",
      "Epoch 4/20\n",
      "158/158 [==============================] - 3s 18ms/step - loss: 0.2776 - false_positives_9: 137.2704\n",
      "Epoch 5/20\n",
      "158/158 [==============================] - 3s 16ms/step - loss: 0.2556 - false_positives_9: 109.8742\n",
      "Epoch 6/20\n",
      "158/158 [==============================] - 3s 17ms/step - loss: 0.2381 - false_positives_9: 101.2642\n",
      "Epoch 7/20\n",
      "158/158 [==============================] - 2s 15ms/step - loss: 0.2336 - false_positives_9: 90.6289\n",
      "Epoch 8/20\n",
      "158/158 [==============================] - 3s 16ms/step - loss: 0.1936 - false_positives_9: 72.6730\n",
      "Epoch 9/20\n",
      "158/158 [==============================] - 3s 18ms/step - loss: 0.1999 - false_positives_9: 68.0000\n",
      "Epoch 10/20\n",
      "158/158 [==============================] - 3s 17ms/step - loss: 0.1992 - false_positives_9: 72.7925\n",
      "Epoch 11/20\n",
      "158/158 [==============================] - 3s 16ms/step - loss: 0.1953 - false_positives_9: 75.4025\n",
      "Epoch 12/20\n",
      "158/158 [==============================] - 3s 19ms/step - loss: 0.1794 - false_positives_9: 67.1572\n",
      "Epoch 13/20\n",
      "158/158 [==============================] - 3s 17ms/step - loss: 0.1714 - false_positives_9: 60.1447\n",
      "Epoch 14/20\n",
      "158/158 [==============================] - 2s 14ms/step - loss: 0.1596 - false_positives_9: 58.8050\n",
      "Epoch 15/20\n",
      "158/158 [==============================] - 3s 18ms/step - loss: 0.1641 - false_positives_9: 60.1698\n",
      "Epoch 16/20\n",
      "158/158 [==============================] - 3s 18ms/step - loss: 0.1665 - false_positives_9: 61.4528\n",
      "Epoch 17/20\n",
      "158/158 [==============================] - 3s 20ms/step - loss: 0.1476 - false_positives_9: 52.7484\n",
      "Epoch 18/20\n",
      "158/158 [==============================] - 3s 16ms/step - loss: 0.1451 - false_positives_9: 70.7296\n",
      "Epoch 19/20\n",
      "158/158 [==============================] - 2s 15ms/step - loss: 0.1717 - false_positives_9: 74.3333\n",
      "Epoch 20/20\n",
      "158/158 [==============================] - 2s 14ms/step - loss: 0.1287 - false_positives_9: 55.3208\n"
     ]
    },
    {
     "data": {
      "text/plain": [
       "<tensorflow.python.keras.callbacks.History at 0x7fd7a7963790>"
      ]
     },
     "execution_count": 46,
     "metadata": {},
     "output_type": "execute_result"
    }
   ],
   "source": [
    "ff_model.fit(x=X_train, y=y_train, epochs=20)"
   ]
  },
  {
   "cell_type": "code",
   "execution_count": 49,
   "id": "539f0c38",
   "metadata": {},
   "outputs": [
    {
     "name": "stdout",
     "output_type": "stream",
     "text": [
      "Confusion matrix:\n",
      " [[7 1]\n",
      " [0 8]]\n",
      "Val accuracy: 93.7500 %\n",
      "              precision    recall  f1-score   support\n",
      "\n",
      "           0      1.000     0.875     0.933         8\n",
      "           1      0.889     1.000     0.941         8\n",
      "\n",
      "    accuracy                          0.938        16\n",
      "   macro avg      0.944     0.938     0.937        16\n",
      "weighted avg      0.944     0.938     0.937        16\n",
      "\n"
     ]
    }
   ],
   "source": [
    "# Val Prediction using Neural Network\n",
    "y_val_nn = ff_model.predict(X_val)\n",
    "\n",
    "#convert  y_test_nn prob to  binary y_test_nn_b\n",
    "\n",
    "y_val_nn_b = y_val_nn\n",
    "y_val_nn_b[y_val_nn_b  < 0.50 ] = 0\n",
    "y_val_nn_b[y_val_nn_b  >= 0.50 ] = 1\n",
    "\n",
    "#Neural Network Test Accuracy\n",
    "\n",
    "val_accuracy = accuracy_score(y_val, y_val_nn)*100\n",
    "#test_auc_roc = roc_auc_score(y_test, y_test_nn)*100\n",
    "\n",
    "print('Confusion matrix:\\n', confusion_matrix(y_val, y_val_nn))\n",
    "\n",
    "#print('Test AUC: %.4f %%' % test_auc_roc)\n",
    "\n",
    "print('Val accuracy: %.4f %%' % val_accuracy)\n",
    "\n",
    "#Classification report for NN model\n",
    "\n",
    "print(classification_report(y_val, y_val_nn_b, digits=3))"
   ]
  },
  {
   "cell_type": "code",
   "execution_count": 48,
   "id": "032bd09d",
   "metadata": {},
   "outputs": [
    {
     "name": "stdout",
     "output_type": "stream",
     "text": [
      "Confusion matrix:\n",
      " [[106 125]\n",
      " [  9 378]]\n",
      "Test accuracy: 78.3172 %\n",
      "              precision    recall  f1-score   support\n",
      "\n",
      "           0      0.922     0.459     0.613       231\n",
      "           1      0.751     0.977     0.849       387\n",
      "\n",
      "    accuracy                          0.783       618\n",
      "   macro avg      0.837     0.718     0.731       618\n",
      "weighted avg      0.815     0.783     0.761       618\n",
      "\n"
     ]
    }
   ],
   "source": [
    "# Test Prediction using Neural Network\n",
    "y_test_nn = ff_model.predict(X_test)\n",
    "\n",
    "#convert  y_test_nn prob to  binary y_test_nn_b\n",
    "\n",
    "y_test_nn_b = y_test_nn\n",
    "y_test_nn_b[y_test_nn_b  < 0.50 ] = 0\n",
    "y_test_nn_b[y_test_nn_b  >= 0.50 ] = 1\n",
    "\n",
    "#Neural Network Test Accuracy\n",
    "\n",
    "test_accuracy = accuracy_score(y_test, y_test_nn)*100\n",
    "#test_auc_roc = roc_auc_score(y_test, y_test_nn)*100\n",
    "\n",
    "print('Confusion matrix:\\n', confusion_matrix(y_test, y_test_nn))\n",
    "\n",
    "#print('Test AUC: %.4f %%' % test_auc_roc)\n",
    "\n",
    "print('Test accuracy: %.4f %%' % test_accuracy)\n",
    "\n",
    "#Classification report for NN model\n",
    "\n",
    "print(classification_report(y_test, y_test_nn_b, digits=3))"
   ]
  },
  {
   "cell_type": "code",
   "execution_count": 77,
   "id": "795b1cb9",
   "metadata": {},
   "outputs": [
    {
     "data": {
      "text/plain": [
       "<AxesSubplot:>"
      ]
     },
     "execution_count": 77,
     "metadata": {},
     "output_type": "execute_result"
    },
    {
     "data": {
      "image/png": "[encoded data removed]",
      "text/plain": [
       "<Figure size 432x288 with 2 Axes>"
      ]
     },
     "metadata": {
      "needs_background": "light"
     },
     "output_type": "display_data"
    }
   ],
   "source": [
    "#confusion matrix as heat map\n",
    "\n",
    "import seaborn as sns\n",
    "c_matrix =confusion_matrix(y_test, y_test_nn)\n",
    "\n",
    "\n",
    "group_names = ['Normal', 'False Positive', 'False Negative', 'Pneumonia']\n",
    "group_counts = ['{0:0.0f}'.format(value) for value in c_matrix.flatten()]\n",
    "\n",
    "labels = [f'{v1}\\n{v2}' for v1, v2  in zip(group_names,group_counts)]\n",
    "labels = np.asarray(labels).reshape(2,2)\n",
    "\n",
    "\n",
    "sns.heatmap(c_matrix, annot=labels, fmt='', cmap='Blues')"
   ]
  },
  {
   "cell_type": "code",
   "execution_count": 73,
   "id": "80f18bee",
   "metadata": {},
   "outputs": [],
   "source": []
  },
  {
   "cell_type": "code",
   "execution_count": 75,
   "id": "70bc685e",
   "metadata": {},
   "outputs": [],
   "source": []
  },
  {
   "cell_type": "code",
   "execution_count": null,
   "id": "fe323493",
   "metadata": {},
   "outputs": [],
   "source": []
  },
  {
   "cell_type": "code",
   "execution_count": null,
   "id": "87625f2a",
   "metadata": {},
   "outputs": [],
   "source": []
  },
  {
   "cell_type": "code",
   "execution_count": null,
   "id": "056e1a0e",
   "metadata": {},
   "outputs": [],
   "source": []
  }
 ],
 "metadata": {
  "kernelspec": {
   "display_name": "Python [conda env:metis] *",
   "language": "python",
   "name": "conda-env-metis-py"
  },
  "language_info": {
   "codemirror_mode": {
    "name": "ipython",
    "version": 3
   },
   "file_extension": ".py",
   "mimetype": "text/x-python",
   "name": "python",
   "nbconvert_exporter": "python",
   "pygments_lexer": "ipython3",
   "version": "3.8.10"
  }
 },
 "nbformat": 4,
 "nbformat_minor": 5
}
